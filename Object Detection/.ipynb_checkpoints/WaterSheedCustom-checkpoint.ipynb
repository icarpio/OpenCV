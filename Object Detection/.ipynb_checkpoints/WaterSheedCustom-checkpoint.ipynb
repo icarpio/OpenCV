{
 "cells": [
  {
   "cell_type": "markdown",
   "metadata": {},
   "source": [
    "# Custom Seeds with Watershed algorithm"
   ]
  },
  {
   "cell_type": "code",
   "execution_count": 12,
   "metadata": {},
   "outputs": [],
   "source": [
    "import cv2\n",
    "import numpy as np\n",
    "import matplotlib.pyplot as plt\n",
    "%matplotlib inline"
   ]
  },
  {
   "cell_type": "code",
   "execution_count": 22,
   "metadata": {},
   "outputs": [],
   "source": [
    "road = cv2.imread('road.jpg')\n",
    "copy = np.copy(road)"
   ]
  },
  {
   "cell_type": "code",
   "execution_count": 23,
   "metadata": {},
   "outputs": [],
   "source": [
    "marker_image = np.zeros(road.shape[:2], dtype=np.int32)\n",
    "segments = np.zeros(road.shape, dtype=np.uint8)"
   ]
  },
  {
   "cell_type": "code",
   "execution_count": 24,
   "metadata": {},
   "outputs": [],
   "source": [
    "#https://matplotlib.org/3.1.1/tutorials/colors/colormaps.html\n",
    "from matplotlib import cm"
   ]
  },
  {
   "cell_type": "code",
   "execution_count": 25,
   "metadata": {},
   "outputs": [],
   "source": [
    "def create_rgb(i):\n",
    "    return tuple(np.array(cm.tab10(i)[:3])*255)\n"
   ]
  },
  {
   "cell_type": "code",
   "execution_count": 26,
   "metadata": {},
   "outputs": [],
   "source": [
    "colors = []\n",
    "for i in range(10):\n",
    "    colors.append(create_rgb(i))"
   ]
  },
  {
   "cell_type": "code",
   "execution_count": 28,
   "metadata": {},
   "outputs": [],
   "source": [
    "#COLOR CHOICE\n",
    "n_markers = 10 #0-9\n",
    "current_marker = 1\n",
    "\n",
    "#MARKERS UPDATED BY WATERSHED\n",
    "marks_updated = False"
   ]
  },
  {
   "cell_type": "code",
   "execution_count": 31,
   "metadata": {},
   "outputs": [],
   "source": [
    "#CALLBACK FUNCTION\n",
    "def mouse_callback(event,x,y,flags,param):\n",
    "    global marks_updated\n",
    "    if event == cv2.EVENT_LBUTTONDOWN:\n",
    "        #Markers passed to the wathershed algo\n",
    "        cv2.circle(marker_image,(x,y),10,(current_marker),-1)\n",
    "        #User sees on the road image\n",
    "        cv2.circle(copy,(x,y),10,colors[current_marker],-1)\n",
    "        \n",
    "        marks_updated = True"
   ]
  },
  {
   "cell_type": "code",
   "execution_count": 32,
   "metadata": {},
   "outputs": [],
   "source": [
    "#WHILE TRUE\n",
    "cv2.namedWindow('Road Image')\n",
    "cv2.setMouseCallback('Road Image', mouse_callback)\n",
    "\n",
    "while True:\n",
    "    \n",
    "    cv2.imshow('Watershed Segments',segments)\n",
    "    cv2.imshow('Road Image', copy)\n",
    "    \n",
    "    #Close all windows\n",
    "    \n",
    "    k = cv2.waitKey(1)\n",
    "    \n",
    "    if k == 27:\n",
    "        break\n",
    "        \n",
    "    #Clearing all the colors press C key\n",
    "    elif k ==ord('c'):\n",
    "        copy = road.copy()\n",
    "        marker_image = np.zeros(road.shape[:2], dtype=np.int32)\n",
    "        segments = np.zeros(road.shape,dtype=np.uint8)\n",
    "        \n",
    "    #Update color choice\n",
    "    elif k > 0  and chr(k).isdigit():\n",
    "        current_marker = int(chr(k))\n",
    "    \n",
    "    #Update the markings\n",
    "    if marks_updated:\n",
    "        marker_image_copy = marker_image.copy()\n",
    "        cv2.watershed(road,marker_image_copy)\n",
    "        segments = np.zeros(road.shape,dtype=np.uint8)\n",
    "        \n",
    "        for color_ind in range(n_markers):\n",
    "            #Coloring segments, numpy call\n",
    "            segments[marker_image_copy==(color_ind)] = colors[color_ind]\n",
    "    \n",
    "    \n",
    "cv2.destroyAllWindows()    "
   ]
  }
 ],
 "metadata": {
  "kernelspec": {
   "display_name": "Python 3",
   "language": "python",
   "name": "python3"
  },
  "language_info": {
   "codemirror_mode": {
    "name": "ipython",
    "version": 3
   },
   "file_extension": ".py",
   "mimetype": "text/x-python",
   "name": "python",
   "nbconvert_exporter": "python",
   "pygments_lexer": "ipython3",
   "version": "3.7.3"
  }
 },
 "nbformat": 4,
 "nbformat_minor": 2
}
